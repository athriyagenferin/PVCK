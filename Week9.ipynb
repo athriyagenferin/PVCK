{
  "nbformat": 4,
  "nbformat_minor": 0,
  "metadata": {
    "colab": {
      "provenance": [],
      "authorship_tag": "ABX9TyMAMFkAs5bHI97KDhklIQdo",
      "include_colab_link": true
    },
    "kernelspec": {
      "name": "python3",
      "display_name": "Python 3"
    },
    "language_info": {
      "name": "python"
    }
  },
  "cells": [
    {
      "cell_type": "markdown",
      "metadata": {
        "id": "view-in-github",
        "colab_type": "text"
      },
      "source": [
        "<a href=\"https://colab.research.google.com/github/athriyagenferin/PVCK/blob/main/Week9.ipynb\" target=\"_parent\"><img src=\"https://colab.research.google.com/assets/colab-badge.svg\" alt=\"Open In Colab\"/></a>"
      ]
    },
    {
      "cell_type": "markdown",
      "source": [
        "**TUGAS PRAKTIKUM**\n",
        "\n",
        "\n",
        "Athriya Genferin -TI 3I"
      ],
      "metadata": {
        "id": "VvmzNZS9rfhf"
      }
    },
    {
      "cell_type": "markdown",
      "source": [
        "1. Import Library"
      ],
      "metadata": {
        "id": "liX6T3dDrb7x"
      }
    },
    {
      "cell_type": "code",
      "execution_count": null,
      "metadata": {
        "id": "OIIBDecyrVPR"
      },
      "outputs": [],
      "source": [
        "# Import Library\n",
        "import cv2\n",
        "import numpy as np\n",
        "from matplotlib import pyplot as plt\n",
        "from google.colab.patches import cv2_imshow"
      ]
    },
    {
      "cell_type": "markdown",
      "source": [
        "2. Load Data"
      ],
      "metadata": {
        "id": "Ky6Q7YgkrzKh"
      }
    },
    {
      "cell_type": "code",
      "source": [
        "# Load Data\n",
        "from google.colab import drive\n",
        "\n",
        "drive.mount('/content/drive')\n"
      ],
      "metadata": {
        "colab": {
          "base_uri": "https://localhost:8080/"
        },
        "id": "J9KlYf4Nr0nw",
        "outputId": "4f33036c-cef3-47b2-deec-5b86c5857969"
      },
      "execution_count": null,
      "outputs": [
        {
          "output_type": "stream",
          "name": "stdout",
          "text": [
            "Mounted at /content/drive\n"
          ]
        }
      ]
    },
    {
      "cell_type": "markdown",
      "source": [
        "3. Fungsi dilasi serta tampilkan hasil dilasi pada citra dengan Structuring Element Dilasi (SED) berbentuk cross 3 x 3 tanpa menggunakan library morphology dari openCV"
      ],
      "metadata": {
        "id": "AnloSsMLr9fh"
      }
    },
    {
      "cell_type": "code",
      "source": [
        "#Dilasi tanpa library\n",
        "def dilasi_citra(F,w):\n",
        "#size image\n",
        "p,q= F.shape\n",
        "imgD= np.zeros((p,q), dtype=np.uint8)\n",
        "#Generate structure element dilasi (SED)\n",
        "SED= np.ones((w,w), dtype=np.uint8)\n",
        "constant1= (w-1)//2\n",
        "#Proses Dilasi\n",
        "for i in range(constant1, p-constant1):\n",
        "for j in range(constant1,q-constant1):\n",
        "\n",
        "temp= F[i-constant1:i+constant1+1, j-\n",
        "constant1:j+constant1+1]\n",
        "\n",
        "product= temp*SED\n",
        "imgD[i,j]= np.max(product)\n",
        "return imgD\n",
        "img_d= cv2.imread('/content/drive/MyDrive/PCVK/Images/plat\n",
        "nomer.jpg',0)\n",
        "ret, thresh = cv2.threshold(img_d, 125, 200, cv2.THRESH_BINARY)\n",
        "w=5\n",
        "imgD = dilasi_citra(thresh,w)\n",
        "plt.subplot(131),plt.imshow(img_d,cmap = 'gray')\n",
        "plt.title('Citra Awal'), plt.xticks([]), plt.yticks([])\n",
        "plt.subplot(132),plt.imshow(imgD,cmap = 'gray')\n",
        "plt.title('Citra Hasil Dilasi'), plt.xticks([]), plt.yticks([])\n",
        "plt.show()"
      ],
      "metadata": {
        "colab": {
          "base_uri": "https://localhost:8080/",
          "height": 106
        },
        "id": "Epprya8tsEt7",
        "outputId": "022e0b41-ae61-40da-b9b4-c7d3c8e66ba7"
      },
      "execution_count": null,
      "outputs": [
        {
          "output_type": "error",
          "ename": "IndentationError",
          "evalue": "expected an indented block after function definition on line 2 (<ipython-input-1-224303e71bf4>, line 4)",
          "traceback": [
            "\u001b[0;36m  File \u001b[0;32m\"<ipython-input-1-224303e71bf4>\"\u001b[0;36m, line \u001b[0;32m4\u001b[0m\n\u001b[0;31m    p,q= F.shape\u001b[0m\n\u001b[0m    ^\u001b[0m\n\u001b[0;31mIndentationError\u001b[0m\u001b[0;31m:\u001b[0m expected an indented block after function definition on line 2\n"
          ]
        }
      ]
    },
    {
      "cell_type": "code",
      "source": [],
      "metadata": {
        "id": "8prjVeXlhpFm"
      },
      "execution_count": null,
      "outputs": []
    }
  ]
}